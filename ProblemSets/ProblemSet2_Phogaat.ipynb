{
 "cells": [
  {
   "cell_type": "markdown",
   "id": "7b9bd1f3",
   "metadata": {},
   "source": [
    "# Standard Library Chapter\n",
    "### Problem 1\n",
    "Write a function that accepts a list L and returns the minimum, maximum, and average of the entries of L (in that order). Can you implement this function in a single line?"
   ]
  },
  {
   "cell_type": "code",
   "execution_count": 1,
   "id": "fe35e444",
   "metadata": {},
   "outputs": [],
   "source": [
    "def display(L):\n",
    "    print(\"My list is:\",L, \n",
    "          \"\\n\\nMin value of the list is:\",min(L),\n",
    "          \"\\nMax of list:\",max(L),\n",
    "          \"\\nAvg of list:\",round(sum(L)/len(L),2))"
   ]
  },
  {
   "cell_type": "code",
   "execution_count": 2,
   "id": "1562f690",
   "metadata": {},
   "outputs": [
    {
     "name": "stdout",
     "output_type": "stream",
     "text": [
      "My list is: [4, 8, 11, 9, 5, 13] \n",
      "\n",
      "Min value of the list is: 4 \n",
      "Max of list: 13 \n",
      "Avg of list: 8.33\n"
     ]
    }
   ],
   "source": [
    "display([4,8,11,9,5,13])"
   ]
  },
  {
   "cell_type": "markdown",
   "id": "78e73b4b",
   "metadata": {},
   "source": [
    "#### Another function to get the min, max and avg value"
   ]
  },
  {
   "cell_type": "code",
   "execution_count": 3,
   "id": "9cd0178b",
   "metadata": {},
   "outputs": [],
   "source": [
    " def get_output(L):\n",
    "        min_list = min([num for num in L])\n",
    "        max_list = max([num for num in L])\n",
    "        avg_list = round(sum([num for num in L])/len(L),2)\n",
    "        return min_list, max_list, avg_list"
   ]
  },
  {
   "cell_type": "code",
   "execution_count": 4,
   "id": "aa97765d",
   "metadata": {},
   "outputs": [
    {
     "data": {
      "text/plain": [
       "(4, 13, 8.33)"
      ]
     },
     "execution_count": 4,
     "metadata": {},
     "output_type": "execute_result"
    }
   ],
   "source": [
    "get_output([4,8,11,9,5,13])"
   ]
  },
  {
   "cell_type": "markdown",
   "id": "8e4003ec",
   "metadata": {},
   "source": [
    "#### Implementing the function in a single line"
   ]
  },
  {
   "cell_type": "code",
   "execution_count": 5,
   "id": "91d0e1a3",
   "metadata": {},
   "outputs": [],
   "source": [
    " def get_stats(L):\n",
    "        return(min(L),max(L),round(sum(L)/len(L),2))"
   ]
  },
  {
   "cell_type": "code",
   "execution_count": 6,
   "id": "b4dd94b9",
   "metadata": {},
   "outputs": [
    {
     "data": {
      "text/plain": [
       "(4, 13, 8.33)"
      ]
     },
     "execution_count": 6,
     "metadata": {},
     "output_type": "execute_result"
    }
   ],
   "source": [
    "get_stats([4,8,11,9,5,13])"
   ]
  },
  {
   "cell_type": "markdown",
   "id": "821190c3",
   "metadata": {},
   "source": [
    "###  Problem 2"
   ]
  },
  {
   "cell_type": "markdown",
   "id": "fd74ff5b",
   "metadata": {},
   "source": [
    "Determine which if Python's object types are mutable and which are immutable by repeating the following experiment for an int, str, list, tuple and set.\n",
    "1. Create an object of the given type and assign a name to it.\n",
    "2. Assign a new name to the first name.\n",
    "3. Alter the object via only one of the names (for tuples, use my_tuple +=(1,)).\n",
    "4. Check to see if the two names are equal."
   ]
  },
  {
   "cell_type": "code",
   "execution_count": 7,
   "id": "25472cb1",
   "metadata": {},
   "outputs": [
    {
     "name": "stdout",
     "output_type": "stream",
     "text": [
      "my_int: 100\n",
      "new_int: 150\n",
      "\n",
      "Integer object type is not mutable\n"
     ]
    }
   ],
   "source": [
    "# Checking for integer type\n",
    "\n",
    "my_int = 100\n",
    "new_int = my_int\n",
    "new_int += 50\n",
    "\n",
    "print(\"my_int:\",my_int)\n",
    "print(\"new_int:\",new_int)\n",
    "\n",
    "if new_int == my_int:\n",
    "    print(\"\\nInteger object type is mutable\")\n",
    "else:\n",
    "    print(\"\\nInteger object type is not mutable\")"
   ]
  },
  {
   "cell_type": "code",
   "execution_count": 8,
   "id": "fa5a960e",
   "metadata": {},
   "outputs": [
    {
     "name": "stdout",
     "output_type": "stream",
     "text": [
      "my_str: Darla Moore\n",
      "new_str: Darla Moore School of Business\n",
      "\n",
      "String object type is immutable\n"
     ]
    }
   ],
   "source": [
    "#Checking for string type\n",
    "\n",
    "my_str = \"Darla Moore\"\n",
    "new_str = my_str\n",
    "new_str += \" School of Business\"\n",
    "\n",
    "print(\"my_str:\",my_str)\n",
    "print(\"new_str:\",new_str)\n",
    "\n",
    "if my_str == new_str:\n",
    "    print(\"\\nString object type is mutable\")\n",
    "else:\n",
    "    print(\"\\nString object type is immutable\")"
   ]
  },
  {
   "cell_type": "code",
   "execution_count": 9,
   "id": "2ca991b7",
   "metadata": {},
   "outputs": [
    {
     "name": "stdout",
     "output_type": "stream",
     "text": [
      "my_list: [1, 2, 3, 10, 100, 1000]\n",
      "new_list: [1, 2, 3, 10, 100, 1000]\n",
      "\n",
      "List object type is mutable\n"
     ]
    }
   ],
   "source": [
    "#Checking for list type\n",
    "\n",
    "my_list = [1,2,3]\n",
    "new_list = my_list\n",
    "new_list += [10,100,1000]\n",
    "\n",
    "print(\"my_list:\",my_list)\n",
    "print(\"new_list:\",new_list)\n",
    "\n",
    "if my_list == new_list:\n",
    "    print(\"\\nList object type is mutable\")\n",
    "else:\n",
    "    print(\"\\nList object type is immutable\")"
   ]
  },
  {
   "cell_type": "code",
   "execution_count": 10,
   "id": "170e070e",
   "metadata": {},
   "outputs": [
    {
     "name": "stdout",
     "output_type": "stream",
     "text": [
      "my_tuple: (4, 5, 6)\n",
      "new_tuple: (4, 5, 6, 10)\n",
      "\n",
      "Tuple object type is immutable\n"
     ]
    }
   ],
   "source": [
    "#Checking for tuple type\n",
    "\n",
    "my_tuple = (4,5,6)\n",
    "new_tuple = my_tuple\n",
    "new_tuple += (10,)\n",
    "\n",
    "print(\"my_tuple:\",my_tuple)\n",
    "print(\"new_tuple:\",new_tuple)\n",
    "\n",
    "if my_tuple == new_tuple:\n",
    "    print(\"\\nTuple object type is mutable\")\n",
    "else:\n",
    "    print(\"\\nTuple object type is immutable\")"
   ]
  },
  {
   "cell_type": "code",
   "execution_count": 11,
   "id": "889c2c6f",
   "metadata": {},
   "outputs": [
    {
     "name": "stdout",
     "output_type": "stream",
     "text": [
      "my_set: ['a', 'b', 'c', 'x']\n",
      "new_set: ['a', 'b', 'c', 'x']\n",
      "\n",
      "Set object type is mutable\n"
     ]
    }
   ],
   "source": [
    "#Checking for set type\n",
    "\n",
    "my_set = ([\"a\", \"b\", \"c\"])\n",
    "new_set = my_set\n",
    "new_set += {\"x\"}\n",
    "\n",
    "print(\"my_set:\",my_set)\n",
    "print(\"new_set:\",new_set)\n",
    "\n",
    "if my_set == new_set:\n",
    "    print(\"\\nSet object type is mutable\")\n",
    "else:\n",
    "    print(\"\\nSet object type is immutable\")"
   ]
  },
  {
   "cell_type": "markdown",
   "id": "fdb95fe2",
   "metadata": {},
   "source": [
    "#### Mutable objects are: List, Set\n",
    "#### Immutable: String, Tuple, Integer"
   ]
  },
  {
   "cell_type": "markdown",
   "id": "cf2f3700",
   "metadata": {},
   "source": [
    "### Problem 3"
   ]
  },
  {
   "cell_type": "markdown",
   "id": "2d93a1b8",
   "metadata": {},
   "source": [
    "Create a module called calculator.py. Write a function that returns the sum of two arguments and a function that returns the product of two arguments.\n",
    "Also use import to add the sqrt() function from the math module to the namesapce. When this file is either run or imported, nothing should be executed.\n",
    "In your solutions file, import your new custom module. Write a function that accepts two numbers representing the lengths of the sides of a right triangle. Using only the functions from calculator.py, calculate and return the length of the hypothenus of the triangle."
   ]
  },
  {
   "cell_type": "code",
   "execution_count": 12,
   "id": "686d62ca",
   "metadata": {},
   "outputs": [],
   "source": [
    "import calculator as cal\n",
    "from math import sqrt"
   ]
  },
  {
   "cell_type": "code",
   "execution_count": 13,
   "id": "0f1611cf",
   "metadata": {},
   "outputs": [
    {
     "name": "stdout",
     "output_type": "stream",
     "text": [
      "Input lengths of shorter triangle sides:\n",
      "a: 2\n",
      "b: 3\n",
      "\n",
      "The length of the hypotenuse is: 3.605551275463989\n"
     ]
    }
   ],
   "source": [
    "print(\"Input lengths of shorter triangle sides:\")\n",
    "\n",
    "a = float(input(\"a: \"))\n",
    "b = float(input(\"b: \"))\n",
    "c = sqrt(cal.add(cal.product(a,a),cal.product(b,b)))\n",
    "         \n",
    "print(\"\\nThe length of the hypotenuse is:\", c )"
   ]
  },
  {
   "cell_type": "code",
   "execution_count": 14,
   "id": "436c9135",
   "metadata": {},
   "outputs": [],
   "source": [
    "def my_func(x, y):\n",
    "    hypotenuse = sqrt(cal.add(cal.product(a,a),cal.product(b,b)))\n",
    "    print(\"The length of the hypotenuse is:\", hypotenuse)"
   ]
  },
  {
   "cell_type": "code",
   "execution_count": 15,
   "id": "01590fc9",
   "metadata": {},
   "outputs": [
    {
     "name": "stdout",
     "output_type": "stream",
     "text": [
      "The length of the hypotenuse is: 3.605551275463989\n"
     ]
    }
   ],
   "source": [
    "my_func(8,9)"
   ]
  },
  {
   "cell_type": "markdown",
   "id": "de6ae227",
   "metadata": {},
   "source": [
    "# Introduction to NumPy"
   ]
  },
  {
   "cell_type": "markdown",
   "id": "b7957fae",
   "metadata": {},
   "source": [
    "### Problem 1"
   ]
  },
  {
   "cell_type": "markdown",
   "id": "5e210458",
   "metadata": {},
   "source": [
    "Write a function that defines the following matrics as NumPy arrays.\n",
    "$$ A = \\left( \\begin{matrix} 3 & -1 & 4 \\\\ 1 & 5 & -9 \\end{matrix}\\right)\n",
    "B = \\left( \\begin{matrix} 2 & 6 & -5 & 3 \\\\ 5 & -8 & 9 & 7 \\\\ 9 & -3 & -2 & -3 \\end{matrix} \\right) $$\n",
    "\n",
    "\n",
    "Retrun the matrix product AB."
   ]
  },
  {
   "cell_type": "markdown",
   "id": "68ae3aaf",
   "metadata": {},
   "source": [
    "##### We solve the problem in two ways:\n",
    "##### i) If the matrix is already given\n",
    "##### ii) If we ask the user to put the entries in the matrix"
   ]
  },
  {
   "cell_type": "code",
   "execution_count": 16,
   "id": "158252e6",
   "metadata": {},
   "outputs": [
    {
     "name": "stdout",
     "output_type": "stream",
     "text": [
      "Array A is: \n",
      " [[ 3 -1  4]\n",
      " [ 1  5 -9]]\n",
      "\n",
      "Array B is: \n",
      " [[ 2  6 -5  3]\n",
      " [ 5 -8  9  7]\n",
      " [ 9 -3 -2 -3]]\n"
     ]
    }
   ],
   "source": [
    "#If matrices are already given \n",
    "\n",
    "import numpy as np\n",
    "\n",
    "A=np.array([[3,-1,4],[1,5,-9]])\n",
    "B=np.array([[2,6,-5,3],[5,-8,9,7],[9,-3,-2,-3]])\n",
    "\n",
    "print(\"Array A is: \\n\",A)\n",
    "print(\"\\nArray B is: \\n\",B)"
   ]
  },
  {
   "cell_type": "code",
   "execution_count": 17,
   "id": "206fb843",
   "metadata": {},
   "outputs": [],
   "source": [
    "#Defining a function for matrix multiplication\n",
    "\n",
    "def matrix_mul(a,b):\n",
    "    return np.dot(a,b)"
   ]
  },
  {
   "cell_type": "code",
   "execution_count": 18,
   "id": "76f0c1dc",
   "metadata": {},
   "outputs": [
    {
     "data": {
      "text/plain": [
       "array([[ 37,  14, -32, -10],\n",
       "       [-54,  -7,  58,  65]])"
      ]
     },
     "execution_count": 18,
     "metadata": {},
     "output_type": "execute_result"
    }
   ],
   "source": [
    "matrix_mul(A,B)"
   ]
  },
  {
   "cell_type": "code",
   "execution_count": 19,
   "id": "0cbb33ee",
   "metadata": {},
   "outputs": [],
   "source": [
    "# If we ask the user to input entries in the matrix\n",
    "\n",
    "def my_matrix():\n",
    "    a=list()\n",
    "    b=list()\n",
    "    n=int(input('Enter no of rows for first matrix: '))\n",
    "    \n",
    "    print('Enter comma separated values row by row for first matrix')\n",
    "    [a.append(input().split(',')) for _ in range(0,n)]\n",
    "    \n",
    "    t=int(input('\\nEnter no of rows for second matrix: '))\n",
    "    \n",
    "    print('Enter comma separated values row by row for second matrix')\n",
    "    [b.append(input().split(',')) for _ in range(0,t)]\n",
    "    \n",
    "    a=np.array(a,dtype=np.float64)\n",
    "    b=np.array(b,dtype=np.float64)\n",
    "    \n",
    "    return np.dot(a,b)"
   ]
  },
  {
   "cell_type": "code",
   "execution_count": 20,
   "id": "febbec1d",
   "metadata": {},
   "outputs": [
    {
     "name": "stdout",
     "output_type": "stream",
     "text": [
      "Enter no of rows for first matrix: 2\n",
      "Enter comma separated values row by row for first matrix\n",
      "3,-1,4\n",
      "1,5,-9\n",
      "\n",
      "Enter no of rows for second matrix: 3\n",
      "Enter comma separated values row by row for second matrix\n",
      "2,6,-5,3\n",
      "5,-8,9,7\n",
      "9,-3,-2,-3\n"
     ]
    },
    {
     "data": {
      "text/plain": [
       "array([[ 37.,  14., -32., -10.],\n",
       "       [-54.,  -7.,  58.,  65.]])"
      ]
     },
     "execution_count": 20,
     "metadata": {},
     "output_type": "execute_result"
    }
   ],
   "source": [
    "my_matrix()"
   ]
  },
  {
   "cell_type": "markdown",
   "id": "1f450335",
   "metadata": {},
   "source": [
    "### Problem 2"
   ]
  },
  {
   "cell_type": "markdown",
   "id": "9541d667",
   "metadata": {},
   "source": [
    "Write a function that defines the following matrix as a NumPy array.\n",
    "\n",
    "$$ A = \\left( \\begin{matrix} 3 & 1 & 4 \\\\ 1 & 5 & 9 \\\\ -5 & 3 & 1\\end{matrix}\\right)$$\n",
    "\n",
    "Return the matrix $$-A^3 + 9A^2 -15A$$"
   ]
  },
  {
   "cell_type": "code",
   "execution_count": 21,
   "id": "5a677bf2",
   "metadata": {},
   "outputs": [
    {
     "name": "stdout",
     "output_type": "stream",
     "text": [
      "Array A is: \n",
      " [[ 3  1  4]\n",
      " [ 1  5  9]\n",
      " [-5  3  1]]\n"
     ]
    }
   ],
   "source": [
    "# Creating a numpy array\n",
    "\n",
    "A=np.array([[3,1,4],[1,5,9],[-5,3,1]])\n",
    "print(\"Array A is: \\n\",A)"
   ]
  },
  {
   "cell_type": "code",
   "execution_count": 22,
   "id": "1ddbb6e0",
   "metadata": {},
   "outputs": [],
   "source": [
    "# Defining a function for matrix calculation\n",
    "\n",
    "def matrix_mul(a):\n",
    "    return -(np.linalg.matrix_power(a,3))+(9*(np.dot(a,a)))-(15*a)"
   ]
  },
  {
   "cell_type": "code",
   "execution_count": 23,
   "id": "7c225f5b",
   "metadata": {},
   "outputs": [
    {
     "data": {
      "text/plain": [
       "array([[0, 0, 0],\n",
       "       [0, 0, 0],\n",
       "       [0, 0, 0]])"
      ]
     },
     "execution_count": 23,
     "metadata": {},
     "output_type": "execute_result"
    }
   ],
   "source": [
    "matrix_mul(A)"
   ]
  },
  {
   "cell_type": "markdown",
   "id": "de544ac4",
   "metadata": {},
   "source": [
    "### Problem 5"
   ]
  },
  {
   "cell_type": "markdown",
   "id": "572e9335",
   "metadata": {},
   "source": [
    "Write a function that defines the following matrices as Numpy arrays.\n",
    "\n",
    "$$ A = \\left( \\begin{matrix} 0 & 2 & 4 \\\\ 1 & 3 & 5 \\end{matrix} \\right) \n",
    "B = \\left( \\begin{matrix} 3 & 0 & 0 \\\\ 3 & 3 & 0 \\\\ 3 & 3 & 3 \\end{matrix} \\right)\n",
    "C = \\left( \\begin{matrix} -2 & 0 & 0 \\\\ 0 & -2 & 0 \\\\ 0 & 0 & -2 \\end{matrix} \\right)$$\n",
    "\n",
    "Use Numpy's stacking functions to create and return the block matrix:\n",
    "\n",
    "$$\\left( \\begin{matrix} 0 & A^T & I \\\\ A & 0 & 0 \\\\ B & 0 & C \\end{matrix} \\right)$$\n",
    "\n",
    "where I is the 3$*$3 identity matrix and each 0 is a matrix of all zeros of appropriate size."
   ]
  },
  {
   "cell_type": "code",
   "execution_count": 24,
   "id": "900c6dc3",
   "metadata": {},
   "outputs": [
    {
     "name": "stdout",
     "output_type": "stream",
     "text": [
      "Array A is: \n",
      " [[0 2 4]\n",
      " [1 3 5]]\n",
      "\n",
      "Array B is: \n",
      " [[3 0 0]\n",
      " [3 3 0]\n",
      " [3 3 3]]\n",
      "\n",
      "Array C is: \n",
      " [[-2  0  0]\n",
      " [ 0 -2  0]\n",
      " [ 0  0 -2]]\n"
     ]
    }
   ],
   "source": [
    "# Creating the numpy array\n",
    "\n",
    "A = np.array([[0,2,4],[1,3,5]])\n",
    "B = np.array([[3,0,0],[3,3,0],[3,3,3]])\n",
    "C = np.array([[-2,0,0],[0,-2,0],[0,0,-2]])\n",
    "\n",
    "print(\"Array A is: \\n\",A)\n",
    "print(\"\\nArray B is: \\n\",B)\n",
    "print(\"\\nArray C is: \\n\",C)"
   ]
  },
  {
   "cell_type": "code",
   "execution_count": 25,
   "id": "d6daa236",
   "metadata": {},
   "outputs": [],
   "source": [
    "# Defining a function for creating a block matrix\n",
    "\n",
    "def block_matrix(a,b,c):\n",
    "    first = np.hstack((np.zeros((3,3)), np.transpose(a), np.identity(3)))\n",
    "    second = np.hstack((a, np.zeros((2,2)), np.zeros((2,3))))\n",
    "    third = np.hstack((b, np.zeros((3,2)), c))\n",
    "    final_matrix = np.vstack((first , second, third))\n",
    "    return final_matrix"
   ]
  },
  {
   "cell_type": "code",
   "execution_count": 26,
   "id": "c00bcedc",
   "metadata": {},
   "outputs": [
    {
     "data": {
      "text/plain": [
       "array([[ 0.,  0.,  0.,  0.,  1.,  1.,  0.,  0.],\n",
       "       [ 0.,  0.,  0.,  2.,  3.,  0.,  1.,  0.],\n",
       "       [ 0.,  0.,  0.,  4.,  5.,  0.,  0.,  1.],\n",
       "       [ 0.,  2.,  4.,  0.,  0.,  0.,  0.,  0.],\n",
       "       [ 1.,  3.,  5.,  0.,  0.,  0.,  0.,  0.],\n",
       "       [ 3.,  0.,  0.,  0.,  0., -2.,  0.,  0.],\n",
       "       [ 3.,  3.,  0.,  0.,  0.,  0., -2.,  0.],\n",
       "       [ 3.,  3.,  3.,  0.,  0.,  0.,  0., -2.]])"
      ]
     },
     "execution_count": 26,
     "metadata": {},
     "output_type": "execute_result"
    }
   ],
   "source": [
    "block_matrix(A,B,C)"
   ]
  },
  {
   "cell_type": "markdown",
   "id": "8cca9ffb",
   "metadata": {},
   "source": [
    "# Object Oriented Programming"
   ]
  },
  {
   "cell_type": "markdown",
   "id": "59923ec4",
   "metadata": {},
   "source": [
    "### Problem 1"
   ]
  },
  {
   "cell_type": "markdown",
   "id": "0462e6ac",
   "metadata": {},
   "source": [
    "Expand the Backpack class to match the following specifications:\n",
    "\n",
    "1. Modify the constructor so that it accepts three total arguments: name, color and max_size (in that order). Make max_size a keyword argument that defaults to 5. Store each input as an attribute.\n",
    "\n",
    "2. Modify the put() method to check that the backpack does not go over capacity. If there are already max_size items or more, print \"No Room!\" and do not add the item to the contents list.\n",
    "\n",
    "3. Write a new method called dump() that resets the contents of the backpack to an empty list. This method should not receive any arguments (except self).\n",
    "\n",
    "4. Documentation is especially important in classes so that the user knows what an object's attributes represent and how to use methods approporiately. Update (or write) the docstrings for the _ _ _init_ _ _ (), put() and dump() methods, as well as the actual class docstring (under class but before _ _ _init_ _ _()) to reflect the changes from part 1-3 of this problem.\n",
    "\n",
    "To ensure that your class works properly, write a test function outside of the Backpack class that instantiates and analyzes a Backpack object."
   ]
  },
  {
   "cell_type": "code",
   "execution_count": 27,
   "id": "395e7600",
   "metadata": {},
   "outputs": [],
   "source": [
    "class Backpack:\n",
    "    \n",
    "    def __init__(self, name, color, max_size = 5):\n",
    "        \n",
    "        '''We have 3 arguments:\n",
    "        Name (str) - name of the backpack's owner\n",
    "        Color (str) - color of the backpack\n",
    "        Max_size (int) - the maximum number of items that can fit inside. Default value is set to 5\n",
    "        '''\n",
    "        \n",
    "        self.name = name\n",
    "        self.color = color\n",
    "        self.max_size = max_size\n",
    "        self.contents = []\n",
    "        \n",
    "    def put(self, item):\n",
    "        \n",
    "        '''Adds items to the backpack's list of contents'''\n",
    "        \n",
    "        if len(self.contents) < self.max_size:\n",
    "            self.contents.append(item)\n",
    "        else:\n",
    "            print(\"No Room!\")\n",
    "        \n",
    "    def dump(self):\n",
    "        \n",
    "        '''Resets the contents of backpack to an empty list'''\n",
    "\n",
    "        pass"
   ]
  },
  {
   "cell_type": "code",
   "execution_count": 28,
   "id": "805d10be",
   "metadata": {},
   "outputs": [],
   "source": [
    "def test_backpack():\n",
    "    \n",
    "    '''Checks that the class works properly with 4 items as input (less than the max_size)'''\n",
    "    \n",
    "    testpack = Backpack(\"Jason\",\"grey\")\n",
    "    if testpack.name != \"Jason\":\n",
    "        print(\"Backpack.name assigned incorrectly\")\n",
    "    for item in [\"pencil\", \"pen\", \"paper\", \"computer\"]:\n",
    "        testpack.put(item)\n",
    "    print(\"Contents:\", testpack.contents)"
   ]
  },
  {
   "cell_type": "code",
   "execution_count": 29,
   "id": "567cc699",
   "metadata": {},
   "outputs": [
    {
     "name": "stdout",
     "output_type": "stream",
     "text": [
      "Contents: ['pencil', 'pen', 'paper', 'computer']\n"
     ]
    }
   ],
   "source": [
    "test_backpack()"
   ]
  },
  {
   "cell_type": "code",
   "execution_count": 30,
   "id": "1e6cabbf",
   "metadata": {},
   "outputs": [],
   "source": [
    "def test_backpack2():\n",
    "    \n",
    "    '''Checks that the class works properly with 6 items as input (more than the max_size).\n",
    "    Also change the name to check whether the name test works properly'''\n",
    "    \n",
    "    testpack = Backpack(\"Drake\",\"grey\")\n",
    "    if testpack.name != \"Jason\":\n",
    "        print(\"Backpack.name assigned incorrectly\")\n",
    "    for item in [\"pencil\", \"pen\", \"paper\", \"computer\",\"charger\",\"notepad\"]:\n",
    "        testpack.put(item)\n",
    "    print(\"Contents:\", testpack.contents)"
   ]
  },
  {
   "cell_type": "code",
   "execution_count": 31,
   "id": "8e2781a5",
   "metadata": {},
   "outputs": [
    {
     "name": "stdout",
     "output_type": "stream",
     "text": [
      "Backpack.name assigned incorrectly\n",
      "No Room!\n",
      "Contents: ['pencil', 'pen', 'paper', 'computer', 'charger']\n"
     ]
    }
   ],
   "source": [
    "test_backpack2()"
   ]
  },
  {
   "cell_type": "markdown",
   "id": "43c2b15f",
   "metadata": {},
   "source": [
    "### Problem 2"
   ]
  },
  {
   "cell_type": "markdown",
   "id": "61916f01",
   "metadata": {},
   "source": [
    "Write a Jetpack class that inherits from the Backpack class.\n",
    "\n",
    "1. Override the constructor so that in addition to a name, color, and maximum size, it also accepts an amount of fuel. Change the default value of max_size to 2, and set the default value of fuel to 10. Store the fuel as an attribute.\n",
    "\n",
    "2. Add a fly() method that accepts an amount of fuel to be burned and decrements the fuel attribute by that amount. If the user tries to burn more fuel than remains, print \"Not enough fuel!\" and do not decrement the fuel.\n",
    "\n",
    "3. Override the dump() method so that both the contents and the fuel tank are emptied.\n",
    "\n",
    "4. Write clear, detailed docstrings for the class and each of its methods."
   ]
  },
  {
   "cell_type": "code",
   "execution_count": 32,
   "id": "2b94737d",
   "metadata": {},
   "outputs": [],
   "source": [
    "# Inherit from the Backpack class in the class definition\n",
    "class Jetpack(Backpack):\n",
    "    \n",
    "    def __init__(self, name, color, max_size = 2, fuel = 10):\n",
    "            \n",
    "        '''A Jetpack object class. It inherits from Backpack class.\n",
    "        Attributes:\n",
    "        Name (str) - name of the backpack's owner\n",
    "        Color (str) - color of the backpack\n",
    "        Max_size (int) - the maximum number of items that can fit inside. Default value is set to 2.\n",
    "        Fuel (int) - amount of fuel. Default value is set to 10.\n",
    "        '''\n",
    "    \n",
    "        self.name = name\n",
    "        self.color = color\n",
    "        self.max_size = max_size\n",
    "        self.fuel = fuel\n",
    "        self.contents = []\n",
    "        \n",
    "    def fly(self):\n",
    "        \n",
    "        '''Accepts an amount of fuel to be burned and decrements the fuel attribute by that amount. \n",
    "        If the user tries to burn more fuel than remains, print \"Not enough fuel!\" and do not decrement the fuel.\n",
    "        '''\n",
    "        \n",
    "        n=int(input('Enter the amount of fuel to be burned: '))\n",
    "        if n <= self.fuel:\n",
    "            self.fuel -= n\n",
    "        else:\n",
    "            print(\"Not enough fuel!\")\n",
    "            \n",
    "    def dump(self):\n",
    "        \n",
    "        '''Resets the contents of backpack to an empty list and the fuel attribute is also emptied'''\n",
    "        \n",
    "        pass    "
   ]
  },
  {
   "cell_type": "code",
   "execution_count": 35,
   "id": "e0777beb",
   "metadata": {},
   "outputs": [],
   "source": [
    "def test_jetpack():\n",
    "    \n",
    "    '''Checks that the class works properly with 6 items as input (more than the max_size).\n",
    "    Also change the name to check whether the name test works properly'''\n",
    "    \n",
    "    testjet = Jetpack(\"Jason\",\"grey\")\n",
    "    if testjet.name != \"Jason\":\n",
    "        print(\"Jetpack.name assigned incorrectly\")\n",
    "\n",
    "    testjet.fly()\n",
    "    print(\"Fuel left after removing the burned fuel amount from total fuel (10):\", testjet.fuel)"
   ]
  },
  {
   "cell_type": "code",
   "execution_count": 36,
   "id": "abdd1fa7",
   "metadata": {},
   "outputs": [
    {
     "name": "stdout",
     "output_type": "stream",
     "text": [
      "Enter the amount of fuel to be burned: 3\n",
      "Fuel left after removing the burned fuel amount from total fuel (10): 7\n"
     ]
    }
   ],
   "source": [
    "test_jetpack()"
   ]
  },
  {
   "cell_type": "code",
   "execution_count": null,
   "id": "43704f27",
   "metadata": {},
   "outputs": [],
   "source": []
  }
 ],
 "metadata": {
  "kernelspec": {
   "display_name": "Python 3",
   "language": "python",
   "name": "python3"
  },
  "language_info": {
   "codemirror_mode": {
    "name": "ipython",
    "version": 3
   },
   "file_extension": ".py",
   "mimetype": "text/x-python",
   "name": "python",
   "nbconvert_exporter": "python",
   "pygments_lexer": "ipython3",
   "version": "3.8.8"
  }
 },
 "nbformat": 4,
 "nbformat_minor": 5
}
